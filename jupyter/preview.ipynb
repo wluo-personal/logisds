{
 "cells": [
  {
   "cell_type": "code",
   "execution_count": 1,
   "metadata": {
    "ExecuteTime": {
     "end_time": "2021-08-03T12:28:16.800807Z",
     "start_time": "2021-08-03T12:28:16.364095Z"
    }
   },
   "outputs": [],
   "source": [
    "import pandas as pd\n",
    "import numpy as np"
   ]
  },
  {
   "cell_type": "code",
   "execution_count": 2,
   "metadata": {
    "ExecuteTime": {
     "end_time": "2021-08-03T12:28:16.858344Z",
     "start_time": "2021-08-03T12:28:16.805666Z"
    }
   },
   "outputs": [],
   "source": [
    "data = pd.read_csv(\"../data/data.csv\")\n",
    "data[\"event_time\"] = pd.to_datetime(data['event_time'])"
   ]
  },
  {
   "cell_type": "markdown",
   "metadata": {},
   "source": [
    "# view x,y summary"
   ]
  },
  {
   "cell_type": "code",
   "execution_count": 3,
   "metadata": {
    "ExecuteTime": {
     "end_time": "2021-08-03T12:28:16.887496Z",
     "start_time": "2021-08-03T12:28:16.859858Z"
    }
   },
   "outputs": [
    {
     "data": {
      "text/html": [
       "<div>\n",
       "<style scoped>\n",
       "    .dataframe tbody tr th:only-of-type {\n",
       "        vertical-align: middle;\n",
       "    }\n",
       "\n",
       "    .dataframe tbody tr th {\n",
       "        vertical-align: top;\n",
       "    }\n",
       "\n",
       "    .dataframe thead th {\n",
       "        text-align: right;\n",
       "    }\n",
       "</style>\n",
       "<table border=\"1\" class=\"dataframe\">\n",
       "  <thead>\n",
       "    <tr style=\"text-align: right;\">\n",
       "      <th></th>\n",
       "      <th>x</th>\n",
       "      <th>y</th>\n",
       "    </tr>\n",
       "  </thead>\n",
       "  <tbody>\n",
       "    <tr>\n",
       "      <th>count</th>\n",
       "      <td>34318.000000</td>\n",
       "      <td>34318.000000</td>\n",
       "    </tr>\n",
       "    <tr>\n",
       "      <th>mean</th>\n",
       "      <td>-110.942199</td>\n",
       "      <td>34.447541</td>\n",
       "    </tr>\n",
       "    <tr>\n",
       "      <th>std</th>\n",
       "      <td>0.121354</td>\n",
       "      <td>0.100353</td>\n",
       "    </tr>\n",
       "    <tr>\n",
       "      <th>min</th>\n",
       "      <td>-111.288415</td>\n",
       "      <td>34.218296</td>\n",
       "    </tr>\n",
       "    <tr>\n",
       "      <th>25%</th>\n",
       "      <td>-111.040950</td>\n",
       "      <td>34.383616</td>\n",
       "    </tr>\n",
       "    <tr>\n",
       "      <th>50%</th>\n",
       "      <td>-110.926965</td>\n",
       "      <td>34.423903</td>\n",
       "    </tr>\n",
       "    <tr>\n",
       "      <th>75%</th>\n",
       "      <td>-110.875336</td>\n",
       "      <td>34.508899</td>\n",
       "    </tr>\n",
       "    <tr>\n",
       "      <th>max</th>\n",
       "      <td>-110.600194</td>\n",
       "      <td>34.683646</td>\n",
       "    </tr>\n",
       "  </tbody>\n",
       "</table>\n",
       "</div>"
      ],
      "text/plain": [
       "                  x             y\n",
       "count  34318.000000  34318.000000\n",
       "mean    -110.942199     34.447541\n",
       "std        0.121354      0.100353\n",
       "min     -111.288415     34.218296\n",
       "25%     -111.040950     34.383616\n",
       "50%     -110.926965     34.423903\n",
       "75%     -110.875336     34.508899\n",
       "max     -110.600194     34.683646"
      ]
     },
     "execution_count": 3,
     "metadata": {},
     "output_type": "execute_result"
    }
   ],
   "source": [
    "data.describe()"
   ]
  },
  {
   "cell_type": "markdown",
   "metadata": {},
   "source": [
    "# view event time distribution"
   ]
  },
  {
   "cell_type": "code",
   "execution_count": 4,
   "metadata": {
    "ExecuteTime": {
     "end_time": "2021-08-03T12:28:17.774505Z",
     "start_time": "2021-08-03T12:28:17.767622Z"
    }
   },
   "outputs": [
    {
     "data": {
      "text/plain": [
       "Timestamp('2017-06-01 00:04:49')"
      ]
     },
     "execution_count": 4,
     "metadata": {},
     "output_type": "execute_result"
    }
   ],
   "source": [
    "data[\"event_time\"].min()"
   ]
  },
  {
   "cell_type": "code",
   "execution_count": 5,
   "metadata": {
    "ExecuteTime": {
     "end_time": "2021-08-03T12:28:18.159402Z",
     "start_time": "2021-08-03T12:28:18.155039Z"
    }
   },
   "outputs": [
    {
     "data": {
      "text/plain": [
       "Timestamp('2017-06-29 23:59:56')"
      ]
     },
     "execution_count": 5,
     "metadata": {},
     "output_type": "execute_result"
    }
   ],
   "source": [
    "data[\"event_time\"].max()"
   ]
  },
  {
   "cell_type": "code",
   "execution_count": 6,
   "metadata": {
    "ExecuteTime": {
     "end_time": "2021-08-03T12:28:18.646896Z",
     "start_time": "2021-08-03T12:28:18.632588Z"
    }
   },
   "outputs": [
    {
     "data": {
      "text/plain": [
       "count    34317.000000\n",
       "mean        73.004837\n",
       "std        677.622960\n",
       "min          0.000000\n",
       "25%         10.000000\n",
       "50%         25.000000\n",
       "75%         57.000000\n",
       "max      27147.000000\n",
       "Name: time_diff_seconds, dtype: float64"
      ]
     },
     "execution_count": 6,
     "metadata": {},
     "output_type": "execute_result"
    }
   ],
   "source": [
    "data[\"time_diff_seconds\"] = data[\"event_time\"].diff(1).dt.total_seconds()\n",
    "data[\"time_diff_seconds\"].describe()\n"
   ]
  },
  {
   "cell_type": "code",
   "execution_count": 16,
   "metadata": {
    "ExecuteTime": {
     "end_time": "2021-08-03T14:13:14.305541Z",
     "start_time": "2021-08-03T14:13:13.618409Z"
    }
   },
   "outputs": [
    {
     "data": {
      "text/plain": [
       "<AxesSubplot:>"
      ]
     },
     "execution_count": 16,
     "metadata": {},
     "output_type": "execute_result"
    },
    {
     "data": {
      "image/png": "[encoded data removed]",
      "text/plain": [
       "<Figure size 432x288 with 1 Axes>"
      ]
     },
     "metadata": {
      "needs_background": "light"
     },
     "output_type": "display_data"
    }
   ],
   "source": [
    "data[\"time_diff_seconds\"].hist(bins=500)"
   ]
  },
  {
   "cell_type": "code",
   "execution_count": 14,
   "metadata": {
    "ExecuteTime": {
     "end_time": "2021-08-03T13:44:27.775170Z",
     "start_time": "2021-08-03T13:44:27.754881Z"
    }
   },
   "outputs": [
    {
     "data": {
      "text/plain": [
       "23598    24716.0\n",
       "6063     24759.0\n",
       "14125    24785.0\n",
       "30965    24786.0\n",
       "20123    24980.0\n",
       "21286    25603.0\n",
       "15138    26047.0\n",
       "29960    26645.0\n",
       "28732    27147.0\n",
       "0            NaN\n",
       "Name: time_diff_seconds, dtype: float64"
      ]
     },
     "execution_count": 14,
     "metadata": {},
     "output_type": "execute_result"
    }
   ],
   "source": [
    "data[\"time_diff_seconds\"].sort_values().tail(10)"
   ]
  },
  {
   "cell_type": "markdown",
   "metadata": {},
   "source": [
    "# time one-hot encoder"
   ]
  },
  {
   "cell_type": "code",
   "execution_count": 18,
   "metadata": {
    "ExecuteTime": {
     "end_time": "2021-08-03T04:13:39.548489Z",
     "start_time": "2021-08-03T04:13:39.544975Z"
    }
   },
   "outputs": [],
   "source": [
    "def one_hot(time):\n",
    "    \"\"\"\n",
    "    \n",
    "    \"\"\"\n",
    "    encode = np.zeros(24+7)\n",
    "    hour = time.hour\n",
    "    day = time.weekday()\n",
    "    encode[[hour,24+day]] = 1\n",
    "    return encode\n",
    "    "
   ]
  },
  {
   "cell_type": "markdown",
   "metadata": {
    "ExecuteTime": {
     "end_time": "2021-08-03T04:12:14.902053Z",
     "start_time": "2021-08-03T04:12:14.894951Z"
    }
   },
   "source": [
    "# X, Y normalization"
   ]
  },
  {
   "cell_type": "code",
   "execution_count": 23,
   "metadata": {
    "ExecuteTime": {
     "end_time": "2021-08-03T04:15:48.942801Z",
     "start_time": "2021-08-03T04:15:48.937135Z"
    }
   },
   "outputs": [],
   "source": [
    "mean_x = data[\"x\"].mean()\n",
    "mean_y = data[\"y\"].mean()\n",
    "std_x = data[\"x\"].std()\n",
    "std_y = data[\"y\"].std()"
   ]
  },
  {
   "cell_type": "code",
   "execution_count": 17,
   "metadata": {
    "ExecuteTime": {
     "end_time": "2021-08-03T04:13:29.665047Z",
     "start_time": "2021-08-03T04:13:29.659269Z"
    }
   },
   "outputs": [
    {
     "data": {
      "text/plain": [
       "0"
      ]
     },
     "execution_count": 17,
     "metadata": {},
     "output_type": "execute_result"
    }
   ],
   "source": [
    "pd.Timestamp('2017-06-26 23:59:56').weekday()"
   ]
  },
  {
   "cell_type": "code",
   "execution_count": 21,
   "metadata": {
    "ExecuteTime": {
     "end_time": "2021-08-03T04:14:01.627385Z",
     "start_time": "2021-08-03T04:14:01.622478Z"
    }
   },
   "outputs": [
    {
     "data": {
      "text/plain": [
       "array([0., 0., 0., 0., 0., 0., 0., 0., 0., 0., 0., 0., 0., 0., 0., 0., 0.,\n",
       "       0., 0., 0., 0., 0., 0., 1., 0., 1., 0., 0., 0., 0., 0.])"
      ]
     },
     "execution_count": 21,
     "metadata": {},
     "output_type": "execute_result"
    }
   ],
   "source": [
    "one_hot(pd.Timestamp('2017-06-27 23:59:56'))"
   ]
  },
  {
   "cell_type": "code",
   "execution_count": null,
   "metadata": {},
   "outputs": [],
   "source": []
  }
 ],
 "metadata": {
  "kernelspec": {
   "display_name": "grubhub",
   "language": "python",
   "name": "grubhub"
  },
  "language_info": {
   "codemirror_mode": {
    "name": "ipython",
    "version": 3
   },
   "file_extension": ".py",
   "mimetype": "text/x-python",
   "name": "python",
   "nbconvert_exporter": "python",
   "pygments_lexer": "ipython3",
   "version": "3.7.10"
  },
  "toc": {
   "base_numbering": 1,
   "nav_menu": {},
   "number_sections": true,
   "sideBar": true,
   "skip_h1_title": false,
   "title_cell": "Table of Contents",
   "title_sidebar": "Contents",
   "toc_cell": false,
   "toc_position": {},
   "toc_section_display": true,
   "toc_window_display": false
  }
 },
 "nbformat": 4,
 "nbformat_minor": 4
}
